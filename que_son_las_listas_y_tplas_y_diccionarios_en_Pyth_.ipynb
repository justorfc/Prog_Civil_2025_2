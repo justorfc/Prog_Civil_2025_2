{
  "cells": [
    {
      "cell_type": "markdown",
      "metadata": {
        "id": "view-in-github",
        "colab_type": "text"
      },
      "source": [
        "<a href=\"https://colab.research.google.com/github/justorfc/Prog_Civil_2025_2/blob/main/que_son_las_listas_y_tplas_y_diccionarios_en_Pyth_.ipynb\" target=\"_parent\"><img src=\"https://colab.research.google.com/assets/colab-badge.svg\" alt=\"Open In Colab\"/></a>"
      ]
    },
    {
      "cell_type": "markdown",
      "source": [
        "Claro. En Python, las **listas**, **tuplas** y **diccionarios** son tipos de datos que permiten almacenar colecciones de elementos. Son fundamentales para organizar y manipular datos de manera eficiente.\n",
        "\n",
        "A continuación, te explico cada uno con ejemplos que puedes aplicar en tus clases de \"Estadística Aplicada\" y \"Programación de Computadoras\".\n",
        "\n",
        "-----\n",
        "\n",
        "### listas (Lists) 📝\n",
        "\n",
        "Una **lista** es una colección **ordenada** y **mutable** de elementos. \"Mutable\" significa que puedes modificar su contenido después de haberla creado (agregar, eliminar o cambiar elementos). Se definen utilizando corchetes `[]`.\n",
        "\n",
        "**Características principales:**\n",
        "\n",
        "  * **Ordenada:** Los elementos mantienen el orden en que fueron añadidos.\n",
        "  * **Mutable:** Se pueden cambiar, añadir o eliminar elementos.\n",
        "  * **Permite duplicados:** Puede contener elementos con el mismo valor.\n",
        "  * **Sintaxis:** Se crean con corchetes `[]`.\n",
        "\n",
        "**Ejemplo aplicado:**\n",
        "Imagina que estás registrando las mediciones de la altura (en metros) de una planta de maíz durante 5 semanas para tus estudiantes de Ingeniería Agrícola."
      ],
      "metadata": {
        "id": "VQm8yKvTMY02"
      }
    },
    {
      "cell_type": "code",
      "source": [
        "# Creación de una lista con las alturas semanales\n",
        "alturas_maiz = [15.2, 25.5, 45.8, 60.1, 75.3]\n",
        "print(f\"Alturas iniciales: {alturas_maiz}\")\n",
        "\n",
        "# Modificar un valor (mutable)\n",
        "# Corregimos la altura de la semana 3\n",
        "alturas_maiz[2] = 46.2\n",
        "print(f\"Alturas corregidas: {alturas_maiz}\")\n",
        "\n",
        "# Añadir un nuevo dato\n",
        "# Agregamos la altura de la semana 6\n",
        "alturas_maiz.append(90.5)\n",
        "print(f\"Con nueva semana: {alturas_maiz}\")\n",
        "\n",
        "# Eliminar un dato\n",
        "# Quitamos la primera medición\n",
        "alturas_maiz.pop(0)\n",
        "print(f\"Sin la primera semana: {alturas_maiz}\")"
      ],
      "outputs": [],
      "execution_count": null,
      "metadata": {
        "id": "uBxGEsQiMY07"
      }
    },
    {
      "cell_type": "markdown",
      "source": [
        "Las listas son ideales para secuencias de datos que esperas modificar, como series de tiempo, resultados de mediciones o listas de tareas.\n",
        "\n",
        "-----\n",
        "\n",
        "### Tuplas (Tuples) 🔒\n",
        "\n",
        "Una **tupla** es una colección **ordenada** e **inmutable** de elementos. \"Inmutable\" significa que una vez creada, no puedes cambiar su contenido. Esto las hace más rápidas y seguras para datos que no deben alterarse. Se definen con paréntesis `()`.\n",
        "\n",
        "**Características principales:**\n",
        "\n",
        "  * **Ordenada:** Los elementos mantienen un orden fijo.\n",
        "  * **Inmutable:** No se pueden añadir, cambiar o eliminar elementos después de su creación.\n",
        "  * **Permite duplicados:** Al igual que las listas, puede contener elementos duplicados.\n",
        "  * **Sintaxis:** Se crean con paréntesis `()`.\n",
        "\n",
        "**Ejemplo aplicado:**\n",
        "Puedes usar una tupla para almacenar coordenadas geográficas (latitud, longitud) de una finca, ya que estas son constantes."
      ],
      "metadata": {
        "id": "nW_W8tkxMY0-"
      }
    },
    {
      "cell_type": "code",
      "source": [
        "# Creación de una tupla con coordenadas (latitud, longitud)\n",
        "coordenadas_finca = (10.019, -75.385)\n",
        "print(f\"Coordenadas de la finca: {coordenadas_finca}\")\n",
        "\n",
        "# Intentar modificar una tupla generará un error\n",
        "# coordenadas_finca[0] = 11.0 # Esto producirá un TypeError\n",
        "\n",
        "# Acceder a los elementos es igual que en las listas\n",
        "latitud = coordenadas_finca[0]\n",
        "longitud = coordenadas_finca[1]\n",
        "print(f\"Latitud: {latitud}, Longitud: {longitud}\")"
      ],
      "outputs": [],
      "execution_count": null,
      "metadata": {
        "id": "C-8i3a1XMY0-"
      }
    },
    {
      "cell_type": "markdown",
      "source": [
        "Las tuplas son perfectas para datos constantes como constantes físicas, configuraciones, o como claves en un diccionario (algo que las listas no pueden ser por ser mutables).\n",
        "\n",
        "-----\n",
        "\n",
        "### Diccionarios (Dictionaries) 🔑\n",
        "\n",
        "Un **diccionario** es una colección **desordenada** (aunque a partir de Python 3.7 se mantiene el orden de inserción), **mutable** y **asociativa** de pares `clave:valor`. En lugar de acceder a los elementos por un índice numérico, se accede a ellos a través de una \"clave\" única. Se definen con llaves `{}`.\n",
        "\n",
        "**Características principales:**\n",
        "\n",
        "  * **Asociativo:** Organizado en pares `clave:valor`.\n",
        "  * **Claves únicas:** No puede haber dos claves iguales.\n",
        "  * **Mutable:** Se pueden añadir, modificar o eliminar pares `clave:valor`.\n",
        "  * **Orden de inserción:** A partir de Python 3.7, los diccionarios recuerdan el orden en que se insertaron los elementos.\n",
        "  * **Sintaxis:** Se crean con llaves `{}`.\n",
        "\n",
        "**Ejemplo aplicado:**\n",
        "Para un proyecto de Ingeniería Agroindustrial, podrías almacenar las propiedades de una fruta."
      ],
      "metadata": {
        "id": "7QrJakIxMY0_"
      }
    },
    {
      "cell_type": "code",
      "source": [
        "# Creación de un diccionario con las propiedades de una fruta\n",
        "propiedades_mango = {\n",
        "    \"nombre_cientifico\": \"Mangifera indica\",\n",
        "    \"variedad\": \"Tommy Atkins\",\n",
        "    \"ph\": 4.1,\n",
        "    \"brix\": 14.5,\n",
        "    \"disponible\": True\n",
        "}\n",
        "print(f\"Propiedades del mango: {propiedades_mango}\")\n",
        "\n",
        "# Acceder a un valor a través de su clave\n",
        "ph_mango = propiedades_mango[\"ph\"]\n",
        "print(f\"El pH del mango es: {ph_mango}\")\n",
        "\n",
        "# Modificar un valor\n",
        "propiedades_mango[\"brix\"] = 15.0\n",
        "print(f\"Grados Brix actualizados: {propiedades_mango['brix']}\")\n",
        "\n",
        "# Añadir un nuevo par clave:valor\n",
        "propiedades_mango[\"origen\"] = \"Colombia\"\n",
        "print(f\"Diccionario completo: {propiedades_mango}\")"
      ],
      "outputs": [],
      "execution_count": null,
      "metadata": {
        "id": "KFGNgvhpMY0_"
      }
    },
    {
      "cell_type": "markdown",
      "source": [
        "Los diccionarios son extremadamente útiles para representar objetos del mundo real (como un estudiante, un producto, un sensor) y para buscar datos de forma muy eficiente por su clave.\n",
        "\n",
        "-----\n",
        "\n",
        "### Tabla Comparativa Rápida\n",
        "\n",
        "| Característica | Lista (List) | Tupla (Tuple) | Diccionario (Dict) |\n",
        "| :--- | :---: | :---: | :---: |\n",
        "| **Sintaxis** | `[1, 2, 3]` | `(1, 2, 3)` | `{'a': 1, 'b': 2}` |\n",
        "| **Orden** | **Ordenada** | **Ordenada** | **Ordenada (desde Python 3.7)** |\n",
        "| **Mutabilidad** | ✅ **Mutable** | ❌ **Inmutable** | ✅ **Mutable** |\n",
        "| **Acceso** | Por índice numérico | Por índice numérico | Por clave |\n",
        "| **Uso principal** | Colecciones de datos que cambian. | Colecciones de datos fijos y constantes. | Datos con relación clave-valor. |\n",
        "\n",
        "Espero que esta explicación sea de gran utilidad para tus cursos. ¡Un saludo\\!"
      ],
      "metadata": {
        "id": "w6IpEICKMY0_"
      }
    }
  ],
  "metadata": {
    "colab": {
      "provenance": [],
      "include_colab_link": true
    },
    "kernelspec": {
      "display_name": "Python 3",
      "name": "python3"
    }
  },
  "nbformat": 4,
  "nbformat_minor": 0
}