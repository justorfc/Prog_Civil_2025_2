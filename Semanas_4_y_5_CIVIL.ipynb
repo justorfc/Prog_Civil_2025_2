{
  "nbformat": 4,
  "nbformat_minor": 0,
  "metadata": {
    "colab": {
      "provenance": [],
      "authorship_tag": "ABX9TyOJhP28Ib3R3Yn7f3tane0W",
      "include_colab_link": true
    },
    "kernelspec": {
      "name": "python3",
      "display_name": "Python 3"
    },
    "language_info": {
      "name": "python"
    }
  },
  "cells": [
    {
      "cell_type": "markdown",
      "metadata": {
        "id": "view-in-github",
        "colab_type": "text"
      },
      "source": [
        "<a href=\"https://colab.research.google.com/github/justorfc/Prog_Civil_2025_2/blob/main/Semanas_4_y_5_CIVIL.ipynb\" target=\"_parent\"><img src=\"https://colab.research.google.com/assets/colab-badge.svg\" alt=\"Open In Colab\"/></a>"
      ]
    },
    {
      "cell_type": "markdown",
      "source": [
        "# Situación de Interés en Ingeniería Civil\n",
        "\n",
        "Un ingeniero estructural necesita calcular el peso de\n",
        "diferentes elementos de una construcción (vigas, columnas). El programa debe tener una base de datos\n",
        "con las densidades de materiales comunes (acero, concreto, madera) y, a partir del tipo de material y\n",
        "el volumen del elemento, debe calcular su peso total.\n",
        "\n",
        "Caso de Ingeniería Civil: Calculadora de Peso Estructural (Diccionarios y Funciones)\n",
        "• Paso a Paso del Código:\n",
        "1. Crear un diccionario que funcione como una base de datos de densidades. La clave será el\n",
        "nombre del material y el valor será su densidad en kg/m³.\n",
        "2. Crear una función calcular_peso que reciba el diccionario de densidades, el nombre del material\n",
        "y su volumen.\n",
        "3. Dentro de la función, buscar la densidad del material en el diccionario.\n",
        "4. Si el material existe, calcular y devolver el peso (densidad * volumen). Si no, devolver un mensaje\n",
        "de error o None.\n",
        "5. En el programa principal, pedir al usuario el tipo de material y las dimensiones del elemento para\n",
        "calcular su volumen.\n",
        "6. Llamar a la función calcular_peso y mostrar el resultado."
      ],
      "metadata": {
        "id": "-KNpps69RoXs"
      }
    },
    {
      "cell_type": "code",
      "metadata": {
        "colab": {
          "base_uri": "https://localhost:8080/"
        },
        "id": "8227064f",
        "outputId": "59e9946d-e713-432f-80b1-d3d88e412533"
      },
      "source": [
        "# 1. Definir las densidades de los materiales\n",
        "densidades_materiales = {\n",
        "    'acero': 7850,  # kg/m³\n",
        "    'concreto': 2400, # kg/m³\n",
        "    'madera': 700    # kg/m³ (this can vary significantly by type)\n",
        "}\n",
        "\n",
        "# 2. Crear la función calcular_peso\n",
        "def calcular_peso(diccionario_densidades, nombre_material, volumen):\n",
        "  \"\"\"Calcula el peso de un elemento a partir de su material y volumen.\n",
        "\n",
        "  Args:\n",
        "    diccionario_densidades: Diccionario con las densidades de los materiales.\n",
        "    nombre_material: Nombre del material del elemento.\n",
        "    volumen: Volumen del elemento en m³.\n",
        "\n",
        "  Returns:\n",
        "    El peso del elemento en kg si el material se encuentra en el diccionario,\n",
        "    de lo contrario, un mensaje de error.\n",
        "  \"\"\"\n",
        "  if nombre_material in diccionario_densidades:\n",
        "    densidad = diccionario_densidades[nombre_material]\n",
        "    peso = densidad * volumen\n",
        "    return peso\n",
        "  else:\n",
        "    return f\"Error: Material '{nombre_material}' no encontrado en la base de datos de densidades.\"\n",
        "\n",
        "# 3. Obtener la entrada del usuario y 4. Calcular el volumen\n",
        "try:\n",
        "    tipo_material = input(\"Introduce el tipo de material (ej. acero, concreto, madera): \").lower()\n",
        "    largo = float(input(\"Introduce el largo del elemento (en metros): \"))\n",
        "    ancho = float(input(\"Introduce el ancho del elemento (en metros): \"))\n",
        "    alto = float(input(\"Introduce el alto del elemento (en metros): \"))\n",
        "\n",
        "    volumen = largo * ancho * alto\n",
        "\n",
        "    print(f\"\\nEl volumen del elemento es: {volumen} m³\")\n",
        "\n",
        "    # 5. Calcular y mostrar el peso\n",
        "    peso_calculado = calcular_peso(densidades_materiales, tipo_material, volumen)\n",
        "\n",
        "    # 6. Manejar materiales no encontrados\n",
        "    if isinstance(peso_calculado, (int, float)):\n",
        "        print(f\"El peso del elemento de {tipo_material} es: {peso_calculado} kg\")\n",
        "    else:\n",
        "        print(peso_calculado)\n",
        "\n",
        "except ValueError:\n",
        "    print(\"Error: Por favor, introduce valores numéricos válidos para las dimensiones.\")\n",
        "except Exception as e:\n",
        "    print(f\"Ocurrió un error: {e}\")"
      ],
      "execution_count": 5,
      "outputs": [
        {
          "output_type": "stream",
          "name": "stdout",
          "text": [
            "Introduce el tipo de material (ej. acero, concreto, madera): acero\n",
            "Introduce el largo del elemento (en metros): 12\n",
            "Introduce el ancho del elemento (en metros): 5\n",
            "Introduce el alto del elemento (en metros): 1\n",
            "\n",
            "El volumen del elemento es: 60.0 m³\n",
            "El peso del elemento de acero es: 471000.0 kg\n"
          ]
        }
      ]
    }
  ]
}